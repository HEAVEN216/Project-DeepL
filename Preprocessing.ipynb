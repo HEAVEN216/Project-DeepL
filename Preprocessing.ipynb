{
 "cells": [
  {
   "cell_type": "code",
   "execution_count": 3,
   "metadata": {},
   "outputs": [
    {
     "name": "stdout",
     "output_type": "stream",
     "text": [
      "Các cột trong DataFrame: Index(['rating ', 'review'], dtype='object')\n"
     ]
    }
   ],
   "source": [
    "file_path = 'filtered_output.csv'\n",
    "df = pd.read_csv(file_path, encoding='utf-8')\n",
    "print(\"Các cột trong DataFrame:\", df.columns)"
   ]
  },
  {
   "cell_type": "markdown",
   "metadata": {},
   "source": [
    "CHỨC NĂNG GỘP FILE"
   ]
  },
  {
   "cell_type": "code",
   "execution_count": 2,
   "metadata": {},
   "outputs": [
    {
     "name": "stdout",
     "output_type": "stream",
     "text": [
      "Merged 14 files into merged_output.csv\n"
     ]
    }
   ],
   "source": [
    "import pandas as pd\n",
    "import os\n",
    "\n",
    "def merge_csv_files(input_folder, output_file):\n",
    "    # Lấy danh sách tất cả các file .csv trong thư mục input\n",
    "    csv_files = [f for f in os.listdir(input_folder) if f.endswith('.csv')]\n",
    "    \n",
    "    # Sử dụng một danh sách để lưu trữ từng DataFrame\n",
    "    data_frames = []\n",
    "\n",
    "    # Duyệt qua từng file csv và thêm vào danh sách DataFrame\n",
    "    for file in csv_files:\n",
    "        file_path = os.path.join(input_folder, file)\n",
    "        data = pd.read_csv(file_path)\n",
    "        data_frames.append(data)\n",
    "    \n",
    "    # Kết hợp tất cả các DataFrame thành một\n",
    "    merged_data = pd.concat(data_frames, ignore_index=True)\n",
    "    \n",
    "    # Ghi DataFrame kết quả vào file csv đầu ra\n",
    "    merged_data.to_csv(output_file, index=False)\n",
    "    print(f'Merged {len(csv_files)} files into {output_file}')\n",
    "\n",
    "# Thư mục chứa các file csv cần gộp\n",
    "input_folder = 'D:\\Project DeepL\\Project-DeepL'\n",
    "# File csv đầu ra sau khi gộp\n",
    "output_file = 'merged_output.csv'\n",
    "\n",
    "# Gộp các file csv\n",
    "merge_csv_files(input_folder, output_file)\n"
   ]
  },
  {
   "cell_type": "markdown",
   "metadata": {},
   "source": [
    "CHỨC NĂNG CẮT LỌC FILE"
   ]
  },
  {
   "cell_type": "code",
   "execution_count": 7,
   "metadata": {},
   "outputs": [
    {
     "name": "stdout",
     "output_type": "stream",
     "text": [
      "Dữ liệu đã được lưu vào file cleaned_review_2.csv\n"
     ]
    }
   ],
   "source": [
    "import pandas as pd\n",
    "import numpy as np\n",
    "\n",
    "# Đọc file CSV đã gộp\n",
    "data = pd.read_csv('cleaned_review_2_no_abnormal.csv')\n",
    "\n",
    "# Lọc dữ liệu theo các điều kiện\n",
    "one_rating_reviews = data[data['rating'] == 1]\n",
    "two_rating_reviews = data[data['rating'] == 2]\n",
    "three_rating_reviews = data[data['rating'] == 3]\n",
    "four_rating_reviews = data[data['rating'] == 4]\n",
    "\n",
    "# Đối với bình luận 5 sao, chỉ lấy 10% ngẫu nhiên (do số review 5 sao quá nhiều)\n",
    "five_rating_reviews = data[data['rating'] == 5].sample(frac=0, random_state=42)\n",
    "\n",
    "# Kết hợp tất cả các phần dữ liệu lại\n",
    "filtered_data = pd.concat([one_rating_reviews, two_rating_reviews, three_rating_reviews, four_rating_reviews, five_rating_reviews])\n",
    "\n",
    "# Lưu dữ liệu mới vào file CSV\n",
    "filtered_data.to_csv('cleaned_review_2.csv', index=False)\n",
    "\n",
    "print(f'Dữ liệu đã được lưu vào file cleaned_review_2.csv')\n"
   ]
  },
  {
   "cell_type": "code",
   "execution_count": 3,
   "metadata": {},
   "outputs": [
    {
     "name": "stdout",
     "output_type": "stream",
     "text": [
      "Dữ liệu đã được lưu vào file sample.csv\n"
     ]
    }
   ],
   "source": [
    "import pandas as pd\n",
    "\n",
    "# Đọc file CSV đã gộp\n",
    "data = pd.read_csv('merged_output.csv')\n",
    "\n",
    "# Lọc dữ liệu theo các điều kiện và lấy 80 mẫu ngẫu nhiên cho mỗi nhãn\n",
    "one_rating_reviews = data[data['rating'] == 1].sample(n=80, random_state=42)\n",
    "two_rating_reviews = data[data['rating'] == 2].sample(n=80, random_state=42)\n",
    "three_rating_reviews = data[data['rating'] == 3].sample(n=80, random_state=42)\n",
    "four_rating_reviews = data[data['rating'] == 4].sample(n=80, random_state=42)\n",
    "five_rating_reviews = data[data['rating'] == 5].sample(n=80, random_state=42)\n",
    "\n",
    "# Kết hợp tất cả các phần dữ liệu lại\n",
    "filtered_data = pd.concat([one_rating_reviews, two_rating_reviews, three_rating_reviews, four_rating_reviews, five_rating_reviews])\n",
    "\n",
    "# Lưu dữ liệu mới vào file CSV\n",
    "filtered_data.to_csv('sample.csv', index=False)\n",
    "\n",
    "print(f'Dữ liệu đã được lưu vào file sample.csv')\n"
   ]
  },
  {
   "cell_type": "markdown",
   "metadata": {},
   "source": [
    "CHỨC NĂNG XỬ LÝ DỮ LIỆU"
   ]
  },
  {
   "cell_type": "code",
   "execution_count": 59,
   "metadata": {},
   "outputs": [],
   "source": [
    "import re\n",
    "import pandas as pd\n",
    "\n",
    "# Hàm chuyển về chữ thường và loại bỏ ký tự đặc biệt\n",
    "def to_lower_and_remove_special_chars(text):\n",
    "    if isinstance(text, str):\n",
    "        text = text.lower()  # chuyển về chữ thường\n",
    "        # Loại bỏ các ký tự đặc biệt\n",
    "        text = re.sub(r\"[()\\\"/:.!@#$%^&*_+\\-={}[\\]|\\\\;'<,>?~`]\", '', text)\n",
    "        text = re.sub(r'\\s+', ' ', text).strip()  # Xóa khoảng trắng thừa\n",
    "    return text\n",
    "\n",
    "# Hàm để kiểm tra xem đánh giá chỉ chứa thông tin sản phẩm\n",
    "def contains_only_product_info(text):\n",
    "    keywords = [\"nhóm màu\", \"kích cỡ\", \"size\", \"kích thước\", \"màu sắc\", \"sản phẩm\"]\n",
    "    if isinstance(text, str):\n",
    "        return any(keyword in text.lower() for keyword in keywords)\n",
    "    return False\n",
    "\n",
    "# Hàm để kiểm tra xem câu có chứa bất kỳ từ nào trong danh sách không\n",
    "def contains_any_word(text, word_list):\n",
    "    if isinstance(text, str):\n",
    "        return any(word.lower() in text.lower() for word in word_list)\n",
    "    return False\n",
    "\n",
    "word_list = [\"tôi\", \"\\ N\"]\n",
    "\n",
    "# Hàm chuẩn hóa khoảng trắng cho \"Nhóm Màu\", \"Kích cỡ\", \"Size\" nếu bị viết liền\n",
    "def normalize_spacing(text):\n",
    "    if isinstance(text, str):\n",
    "        # Thêm khoảng trắng trước \"Nhóm Màu\", \"Kích cỡ\", \"Size\" nếu viết liền\n",
    "        text = re.sub(r'([a-zA-Z])?(NhómMàu|Nhóm màu|Kíchcỡ|Kích cỡ|Size|Kích thước|Màu sắc)', r'\\1 \\2', text)\n",
    "    return text\n",
    "\n",
    "# Hàm để loại bỏ dữ liệu từ \"Nhóm Màu\", \"Kích cỡ\" từ lần cuối xuất hiện trở đi\n",
    "def remove_color_size(text):\n",
    "    if isinstance(text, str):\n",
    "        # Mẫu regex để tìm các từ khóa và xóa tất cả sau từ cuối cùng này\n",
    "        pattern = r'(Nhóm Màu|Kích cỡ|Size|Màu sắc|Kích thước|Nhóm màu)(.*)$'\n",
    "        text = re.sub(pattern, '', text).strip()  # Xóa từ khóa trở đi\n",
    "    return text\n",
    "\n",
    "# Hàm để loại bỏ dấu chấm, dấu phẩy, và số 0 ở cuối\n",
    "def clean_end_punctuation(text):\n",
    "    if isinstance(text, str):\n",
    "        text = re.sub(r'[.,0]+$', '', text).strip()\n",
    "    return text\n",
    "\n",
    "# Hàm loại bỏ dấu ngoặc kép trong mỗi review\n",
    "def remove_quotes(review):\n",
    "    if isinstance(review, str):\n",
    "        return review.strip('\"')\n",
    "    return review\n",
    "\n",
    "# Hàm để loại bỏ emoji\n",
    "def remove_emoji(text):\n",
    "    if isinstance(text, str):\n",
    "        # Biểu thức regex để loại bỏ emoji\n",
    "        emoji_pattern = re.compile(\"[\"\n",
    "                                   u\"\\U0001F600-\\U0001F64F\"\n",
    "                                   u\"\\U0001F300-\\U0001F5FF\"\n",
    "                                   u\"\\U0001F680-\\U0001F6FF\"\n",
    "                                   u\"\\U0001F1E0-\\U0001F1FF\"\n",
    "                                   u\"\\U00002500-\\U00002BEF\"\n",
    "                                   u\"\\U00002702-\\U000027B0\"\n",
    "                                   u\"\\U00002702-\\U000027B0\"\n",
    "                                   u\"\\U000024C2-\\U0001F251\"\n",
    "                                   u\"\\U0001f926-\\U0001f937\"\n",
    "                                   u\"\\U00010000-\\U0010ffff\"\n",
    "                                   u\"\\u2640-\\u2642\"\n",
    "                                   u\"\\u2600-\\u2B55\"\n",
    "                                   u\"\\u200d\"\n",
    "                                   u\"\\u23cf\"\n",
    "                                   u\"\\u23e9\"\n",
    "                                   u\"\\u231a\"\n",
    "                                   u\"\\ufe0f\"\n",
    "                                   u\"\\u3030\"\n",
    "                                   \"]+\", flags=re.UNICODE)\n",
    "        text = emoji_pattern.sub(r'', text)\n",
    "    return text\n",
    "\n",
    "# Hàm để kiểm tra xem có từ nào trong câu dài hơn 7 ký tự không\n",
    "def has_long_word(text, max_length=7):\n",
    "    if isinstance(text, str):\n",
    "        words = text.split()\n",
    "        return any(len(word) > max_length for word in words)\n",
    "    return False\n",
    "\n",
    "# Hàm để thay thế các từ viết tắt thành từ đầy đủ\n",
    "def translate_slang(text):\n",
    "    slang_dict = {\n",
    "        \"kg\": \"không\",\n",
    "        \"ik\": \"đi\",\n",
    "        \"dc\": \"được\",\n",
    "        \"kh\": \"không\",\n",
    "        \"neen\": \"nên\",\n",
    "        \"j\": \"gì\",\n",
    "        \"ko\": \"không\"\n",
    "    }\n",
    "    if isinstance(text, str):\n",
    "        words = text.split()\n",
    "        words = [slang_dict[word.lower()] if word.lower() in slang_dict else word for word in words]\n",
    "        return ' '.join(words)\n",
    "    return text\n",
    "\n",
    "# Hàm để loại bỏ stop words\n",
    "def remove_stop_words(text):\n",
    "    stop_words = set(['và', 'là', 'có', 'những', 'đã'])\n",
    "    if isinstance(text, str):\n",
    "        words = text.split()\n",
    "        words = [word for word in words if word.lower() not in stop_words]\n",
    "        return ' '.join(words)\n",
    "    return text\n",
    "\n",
    "# Đọc file CSV chứa các đánh giá\n",
    "file_path = 'cleaned_sample_balanced.csv'  # Thay thế đường dẫn tới file CSV của bạn\n",
    "df = pd.read_csv(file_path)\n",
    "\n",
    "# Áp dụng các hàm xử lý dữ liệu\n",
    "df_cleaned = df.copy()\n",
    "df_cleaned['review'] = df_cleaned['review'].apply(remove_quotes)\n",
    "df_cleaned['review'] = df_cleaned['review'].apply(normalize_spacing)\n",
    "df_cleaned['review'] = df_cleaned['review'].apply(remove_color_size)\n",
    "df_cleaned['review'] = df_cleaned['review'].apply(remove_emoji)\n",
    "df_cleaned['review'] = df_cleaned['review'].apply(translate_slang)\n",
    "df_cleaned['review'] = df_cleaned['review'].apply(remove_stop_words)\n",
    "df_cleaned = df_cleaned[~df_cleaned['review'].apply(has_long_word)]\n",
    "df_cleaned['review'] = df_cleaned['review'].apply(clean_end_punctuation)\n",
    "df_cleaned['review'] = df_cleaned['review'].apply(to_lower_and_remove_special_chars)\n",
    "\n",
    "# Xóa đánh giá rỗng hoặc chỉ chứa thông tin sản phẩm\n",
    "df_cleaned = df_cleaned[df_cleaned['review'].str.strip().astype(bool)]\n",
    "df_cleaned = df_cleaned[~df_cleaned['review'].apply(contains_only_product_info)]\n",
    "df_cleaned = df_cleaned[~df_cleaned['review'].apply(lambda x: contains_any_word(x, word_list))]\n",
    "\n",
    "# Lưu dữ liệu đã làm sạch ra file CSV mới\n",
    "output_file_path = 'cleaned_sample_no_abnormal.csv'\n",
    "df_cleaned.to_csv(output_file_path, encoding='utf-8', index=False)\n"
   ]
  },
  {
   "cell_type": "code",
   "execution_count": 61,
   "metadata": {},
   "outputs": [
    {
     "name": "stdout",
     "output_type": "stream",
     "text": [
      "Phân phối số lượng đánh giá theo số sao:\n",
      "rating\n",
      "1    80\n",
      "2    80\n",
      "3    80\n",
      "4    79\n",
      "5    80\n",
      "Name: count, dtype: int64\n"
     ]
    },
    {
     "data": {
      "image/png": "[encoded data removed]",
      "text/plain": [
       "<Figure size 800x600 with 1 Axes>"
      ]
     },
     "metadata": {},
     "output_type": "display_data"
    }
   ],
   "source": [
    "import pandas as pd\n",
    "import matplotlib.pyplot as plt\n",
    "\n",
    "# Đọc dữ liệu đã làm sạch\n",
    "file_path = 'cleaned_sample_no_abnormal.csv'\n",
    "df_cleaned = pd.read_csv(file_path)\n",
    "\n",
    "# Kiểm tra phân phối số sao\n",
    "rating_distribution = df_cleaned['rating'].value_counts().sort_index()\n",
    "print(\"Phân phối số lượng đánh giá theo số sao:\")\n",
    "print(rating_distribution)\n",
    "\n",
    "# Vẽ biểu đồ phân phối đánh giá theo số sao\n",
    "plt.figure(figsize=(8, 6))\n",
    "plt.bar(rating_distribution.index, rating_distribution.values, color='skyblue')\n",
    "plt.xlabel('Số sao')\n",
    "plt.ylabel('Số lượng đánh giá')\n",
    "plt.title('Phân phối số lượng đánh giá theo số sao')\n",
    "plt.show()\n",
    "\n",
    "# Từ điển từ tiêu cực để kiểm tra các đánh giá 5 sao có nội dung tiêu cực\n",
    "negative_words = ['tệ', 'không tốt', 'thất vọng', 'kém', 'xấu', 'chán', 'không đáng', 'lỗi', 'sai', 'đừng nên', 'không nên']\n",
    "\n",
    "# Hàm để kiểm tra xem có từ tiêu cực trong đánh giá không\n",
    "def contains_negative_word(text):\n",
    "    if isinstance(text, str):\n",
    "        return any(word in text for word in negative_words)\n",
    "    return False\n",
    "\n",
    "# Lọc ra các đánh giá 5 sao có nội dung tiêu cực và đánh giá 1 sao có nội dung tích cực\n",
    "df_abnormal = df_cleaned[((df_cleaned['rating'] == 5) & df_cleaned['review'].apply(contains_negative_word)) |\n",
    "                         ((df_cleaned['rating'] == 1) & ~df_cleaned['review'].apply(contains_negative_word))]\n",
    "\n",
    "\n",
    "# Xử lý các đánh giá bất thường (gán nhãn lại hoặc loại bỏ)\n",
    "# Ví dụ: Loại bỏ các đánh giá bất thường\n",
    "df_cleaned = df_cleaned.drop(df_abnormal.index)\n",
    "\n",
    "# Lưu dữ liệu sau khi loại bỏ các đánh giá bất thường\n",
    "output_file_path = 'cleaned_sample.csv'\n",
    "df_cleaned.to_csv(output_file_path, encoding='utf-8', index=False)\n"
   ]
  },
  {
   "cell_type": "code",
   "execution_count": 55,
   "metadata": {},
   "outputs": [
    {
     "name": "stdout",
     "output_type": "stream",
     "text": [
      "Dữ liệu đã được cân bằng và lưu vào file cleaned_sample_balanced.csv\n"
     ]
    },
    {
     "name": "stderr",
     "output_type": "stream",
     "text": [
      "C:\\Users\\LENOVO\\AppData\\Local\\Temp\\ipykernel_21084\\2142764483.py:33: DeprecationWarning: DataFrameGroupBy.apply operated on the grouping columns. This behavior is deprecated, and in a future version of pandas the grouping columns will be excluded from the operation. Either pass `include_groups=False` to exclude the groupings or explicitly select the grouping columns after groupby to silence this warning.\n",
      "  df_final = df_cleaned.groupby('rating').apply(lambda x: x.sample(n=80, random_state=42)).reset_index(drop=True)\n"
     ]
    }
   ],
   "source": [
    "import pandas as pd\n",
    "\n",
    "# Đọc hai file dữ liệu\n",
    "cleaned_file = 'cleaned_sample_no_abnormal.csv'\n",
    "merged_file = 'merged_output.csv'\n",
    "\n",
    "df_cleaned = pd.read_csv(cleaned_file)\n",
    "df_merged = pd.read_csv(merged_file)\n",
    "\n",
    "# Số lượng mẫu cần thêm cho mỗi nhãn\n",
    "n_samples_needed = 80 - df_cleaned['rating'].value_counts().sort_index()\n",
    "\n",
    "# Khởi tạo danh sách dữ liệu bổ sung\n",
    "additional_data = []\n",
    "\n",
    "# Lặp qua từng nhãn để thêm dữ liệu\n",
    "for rating in n_samples_needed.index:\n",
    "    if n_samples_needed[rating] > 0:\n",
    "        # Lọc các dòng có nhãn tương ứng từ file merged_output.csv\n",
    "        additional_samples = df_merged[df_merged['rating'] == rating].sample(\n",
    "            n=min(n_samples_needed[rating], len(df_merged[df_merged['rating'] == rating])),\n",
    "            random_state=42\n",
    "        )\n",
    "        # Thêm vào danh sách bổ sung\n",
    "        additional_data.append(additional_samples)\n",
    "\n",
    "# Kết hợp dữ liệu gốc và dữ liệu bổ sung\n",
    "if additional_data:\n",
    "    additional_data = pd.concat(additional_data)\n",
    "    df_cleaned = pd.concat([df_cleaned, additional_data])\n",
    "\n",
    "# Đảm bảo mỗi nhãn chỉ có tối đa 80 mẫu\n",
    "df_final = df_cleaned.groupby('rating').apply(lambda x: x.sample(n=80, random_state=42)).reset_index(drop=True)\n",
    "\n",
    "# Lưu file kết quả\n",
    "output_file_path = 'cleaned_sample_balanced.csv'\n",
    "df_final.to_csv(output_file_path, encoding='utf-8', index=False)\n",
    "\n",
    "print(f\"Dữ liệu đã được cân bằng và lưu vào file {output_file_path}\")\n"
   ]
  }
 ],
 "metadata": {
  "kernelspec": {
   "display_name": "Python 3",
   "language": "python",
   "name": "python3"
  },
  "language_info": {
   "codemirror_mode": {
    "name": "ipython",
    "version": 3
   },
   "file_extension": ".py",
   "mimetype": "text/x-python",
   "name": "python",
   "nbconvert_exporter": "python",
   "pygments_lexer": "ipython3",
   "version": "3.11.9"
  }
 },
 "nbformat": 4,
 "nbformat_minor": 2
}
